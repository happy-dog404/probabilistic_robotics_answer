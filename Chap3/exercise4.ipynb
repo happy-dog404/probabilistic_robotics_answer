{
 "cells": [
  {
   "cell_type": "markdown",
   "metadata": {},
   "source": [
    "(a)  \n",
    "机器人移动后，若无噪声影响，则其后验为以0，0为圆心圆"
   ]
  },
  {
   "cell_type": "code",
   "execution_count": 1,
   "metadata": {},
   "outputs": [
    {
     "data": {
      "text/plain": [
       "matrix([[0],\n",
       "        [0]])"
      ]
     },
     "execution_count": 1,
     "metadata": {},
     "output_type": "execute_result"
    }
   ],
   "source": [
    "import matplotlib.pyplot as plt\n",
    "from matplotlib.patches import Ellipse\n",
    "import numpy as np\n",
    "\n",
    "\n",
    "\n",
    "def plot_conversion_ellopse(mean,cov,ax,color='blue',n_std=2):\n",
    "    eigvals, eigvecs = np.linalg.eigh(cov)\n",
    "    anglel = np.arctan(-eigvecs[0,0]/eigvecs[1,0])*180.0/3.1415926\n",
    "    ellipse = Ellipse(xy=(miu[0,0],miu[1,0]), width=eigvals[1], height=eigvals[0], angle=anglel, edgecolor=color, facecolor='none')\n",
    "    ax.add_patch(ellipse)\n",
    "\n",
    "\n",
    "miu0 = np.mat([[0],[0],[0]])\n",
    "sigma0 = np.mat([[0.001,0,0],[0,0.001,0],[0,0,10000]])\n",
    "\n",
    "fix = plt.figure()\n",
    "ax = fix.add_subplot(111)\n",
    "plot_conversion_ellopse()\n",
    "\n",
    "\n"
   ]
  }
 ],
 "metadata": {
  "kernelspec": {
   "display_name": "pytorch",
   "language": "python",
   "name": "python3"
  },
  "language_info": {
   "codemirror_mode": {
    "name": "ipython",
    "version": 3
   },
   "file_extension": ".py",
   "mimetype": "text/x-python",
   "name": "python",
   "nbconvert_exporter": "python",
   "pygments_lexer": "ipython3",
   "version": "3.9.16"
  }
 },
 "nbformat": 4,
 "nbformat_minor": 2
}
