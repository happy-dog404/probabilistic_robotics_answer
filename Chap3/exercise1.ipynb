{
 "cells": [
  {
   "cell_type": "markdown",
   "metadata": {},
   "source": [
    "概率机器人第三章第一题答案\n"
   ]
  },
  {
   "cell_type": "code",
   "execution_count": 20,
   "metadata": {},
   "outputs": [],
   "source": [
    "import matplotlib.pyplot as plt\n",
    "from matplotlib.patches import Ellipse\n",
    "import numpy as np\n"
   ]
  },
  {
   "cell_type": "markdown",
   "metadata": {},
   "source": [
    "(a)\n",
    "最小的状态向量为 $X=\\begin{bmatrix} x_{t} \\\\ \\dot{x_{t}}\\end{bmatrix}$"
   ]
  },
  {
   "cell_type": "markdown",
   "metadata": {},
   "source": [
    "(b)\n",
    "状态转移方程：$ X_{t}=AX_{t-1}+Bu_{t}+ \\varepsilon_{t} $  \n",
    "状态转移概率：$ p(x_{t}|u_{t},x_{t-1})=det\\left (2\\pi R_{t}  \\right )^{-\\frac{1}{2}}\n",
    "exp\\left \\{\n",
    "    \\left( X_{t}-AX_{t-1}-Bu_{t} \\right )^{T}R^{-1} \\left( X_{t}-AX_{t-1}-Bu_{t} \\right )\n",
    " \\right \\} $  \n",
    " 其中  \n",
    " $A=\\begin{bmatrix} 1 & 1 \\\\ 0 & 1 \\\\ \\end{bmatrix}$  \n",
    " $B=\\begin{bmatrix} \\frac{1}{2} \\\\ 1  \\end{bmatrix}$  \n",
    " 由于假设了加速度符合均值为0，方差为1的高斯分布，因此有  \n",
    " $R_{t}=E((Bu+{t}-E(Bu+{t}))(Bu+{t}-E(Bu+{t}))^{T})=\\sigma^{2}BB^{T}$\n",
    "\n",
    " \n",
    "\n",
    "\n"
   ]
  },
  {
   "cell_type": "code",
   "execution_count": 13,
   "metadata": {},
   "outputs": [
    {
     "name": "stdout",
     "output_type": "stream",
     "text": [
      "A= [[1 1]\n",
      " [0 1]]\n",
      "B= [[0.5]\n",
      " [1. ]]\n",
      "miu0= [[0]\n",
      " [0]]\n",
      "u0= [0]\n",
      "R: [[0.25 0.5 ]\n",
      " [0.5  1.  ]]\n"
     ]
    }
   ],
   "source": [
    "A = np.array([[1,1],[0,1]])\n",
    "B = np.array([[1/2],[1]])\n",
    "miu0 = np.array([[0],[0]])\n",
    "u0 = np.array([0])\n",
    "Rt = np.dot(B,B.T)\n",
    "print(\"A=\",A)\n",
    "print(\"B=\",B)\n",
    "print(\"miu0=\",miu0)\n",
    "print(\"u0=\",u0)\n",
    "print(\"R:\",Rt)"
   ]
  },
  {
   "cell_type": "markdown",
   "metadata": {},
   "source": [
    "(c)卡尔曼的预测步骤为  \n",
    "$ \\bar{ \\mu }_{t}=A_{t}\\mu_{t-1}+B_{t}u_{t} $  \n",
    "$ \\bar{ \\Sigma}_{t}=A_{t}\\Sigma_{t-1}A_{t}^{T}+R_{t}$ \n",
    "其中，由于卡尔曼滤波假设了状态$X_{t}$是高斯分布的  \n",
    "且题目中明确其均值为0，方差为1\n",
    "因此有  \n",
    "$\\mu_{0}=E(X_{t})$  \n",
    "$\\Sigma_{0}=E((X_{t}-E(X_{t}))(X_{t}-E(X_{t}))^{T})=R_{t}$\n"
   ]
  },
  {
   "cell_type": "code",
   "execution_count": 22,
   "metadata": {},
   "outputs": [
    {
     "name": "stdout",
     "output_type": "stream",
     "text": [
      "miu 1 :\n",
      " [[0.]\n",
      " [0.]]\n",
      "sigma 1 :\n",
      " [[2.5 2. ]\n",
      " [2.  2. ]]\n",
      "miu 2 :\n",
      " [[0.]\n",
      " [0.]]\n",
      "sigma 2 :\n",
      " [[8.75 4.5 ]\n",
      " [4.5  3.  ]]\n",
      "miu 3 :\n",
      " [[0.]\n",
      " [0.]]\n",
      "sigma 3 :\n",
      " [[21.  8.]\n",
      " [ 8.  4.]]\n",
      "miu 4 :\n",
      " [[0.]\n",
      " [0.]]\n",
      "sigma 4 :\n",
      " [[41.25 12.5 ]\n",
      " [12.5   5.  ]]\n",
      "miu 5 :\n",
      " [[0.]\n",
      " [0.]]\n",
      "sigma 5 :\n",
      " [[71.5 18. ]\n",
      " [18.   6. ]]\n"
     ]
    }
   ],
   "source": [
    "miu = miu0\n",
    "R = Rt\n",
    "u = u0\n",
    "sigma = Rt\n",
    "\n",
    "for i in range(1,6):\n",
    "    miu = np.dot(A,miu)+B*u\n",
    "    sigma = np.dot(np.dot(A,sigma),A.T)+R\n",
    "    print(\"miu\",i,\":\\n\",miu)\n",
    "    print(\"sigma\",i,\":\\n\",sigma)\n"
   ]
  },
  {
   "cell_type": "markdown",
   "metadata": {},
   "source": [
    "(d)画出不确定性椭圆\n",
    "\n"
   ]
  },
  {
   "cell_type": "code",
   "execution_count": 38,
   "metadata": {},
   "outputs": [
    {
     "data": {
      "image/png": "[encoded data removed]",
      "text/plain": [
       "<Figure size 432x288 with 1 Axes>"
      ]
     },
     "metadata": {
      "needs_background": "light"
     },
     "output_type": "display_data"
    }
   ],
   "source": [
    "miu = miu0\n",
    "R = Rt\n",
    "u = u0\n",
    "sigma = Rt\n",
    "\n",
    "\n",
    "def plot_conversion_ellopse(mean,cov,ax,color='blue',n_std=2):\n",
    "    eigvals, eigvecs = np.linalg.eigh(cov)\n",
    "    anglel = np.arctan(-eigvecs[0,0]/eigvecs[1,0])*180.0/3.1415926\n",
    "    ellipse = Ellipse(xy=(miu[0,0],miu[1,0]), width=eigvals[1], height=eigvals[0], angle=anglel, edgecolor=color, facecolor='none')\n",
    "    ax.add_patch(ellipse)\n",
    "\n",
    "\n",
    "\n",
    "fix = plt.figure()\n",
    "ax = fix.add_subplot(111)\n",
    "\n",
    "color_que = ['blue','red','green','yellow','black','pink']\n",
    "\n",
    "for i in range(1,6):\n",
    "    miu = np.dot(A,miu)+B*u\n",
    "    sigma = np.dot(np.dot(A,sigma),A.T)+R\n",
    "    eigen_value, eigen_vector = np.linalg.eig(sigma)\n",
    "    # ell1 = Ellipse(xy = (miu[0,0], miu[1,0]), width = eigen_value[1], height = eigen_value[0], angle = np.arctan(-eigen_vector[0,0]/eigen_vector[1,0])*180.0/3.1415926, facecolor='yellow', alpha=0.3)\n",
    "    # ax.add_patch(ell1)\n",
    "    plot_conversion_ellopse(miu,sigma,ax,color=color_que[i])\n",
    "plt.autoscale()\n",
    "plt.show()"
   ]
  },
  {
   "cell_type": "markdown",
   "metadata": {},
   "source": [
    "(e)\n",
    "随着$t\\rightarrow \\infty$,$X_{t}$与$\\dot{X}_{t}$间的相关性变得越来越不确定，反映在图上就是不确定性椭圆越来越大"
   ]
  }
 ],
 "metadata": {
  "kernelspec": {
   "display_name": "pytorch",
   "language": "python",
   "name": "python3"
  },
  "language_info": {
   "codemirror_mode": {
    "name": "ipython",
    "version": 3
   },
   "file_extension": ".py",
   "mimetype": "text/x-python",
   "name": "python",
   "nbconvert_exporter": "python",
   "pygments_lexer": "ipython3",
   "version": "3.9.16"
  }
 },
 "nbformat": 4,
 "nbformat_minor": 2
}
