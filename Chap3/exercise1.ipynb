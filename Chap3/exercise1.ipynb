{
 "cells": [
  {
   "cell_type": "markdown",
   "metadata": {},
   "source": [
    "概率机器人第三章第一题答案\n"
   ]
  },
  {
   "cell_type": "code",
   "execution_count": 1,
   "metadata": {},
   "outputs": [],
   "source": [
    "import matplotlib.pyplot as plt\n",
    "import numpy as np\n"
   ]
  },
  {
   "cell_type": "markdown",
   "metadata": {},
   "source": [
    "(a)\n",
    "最小的状态向量为 $X=\\begin{bmatrix} x_{t} \\\\ \\dot{x_{t}}\\end{bmatrix}$"
   ]
  },
  {
   "cell_type": "markdown",
   "metadata": {},
   "source": [
    "(b)\n",
    "状态转移方程：$ X_{t}=AX_{t-1}+Bu_{t}+ \\varepsilon_{t} $  \n",
    "状态转移概率：$ p(x_{t}|u_{t},x_{t-1})=det\\left (2\\pi R_{t}  \\right )^{-\\frac{1}{2}}\n",
    "exp\\left \\{\n",
    "    \\left( X_{t}-AX_{t-1}-Bu_{t} \\right )^{T}R^{-1} \\left( X_{t}-AX_{t-1}-Bu_{t} \\right )\n",
    " \\right \\} $  \n",
    " 其中  \n",
    " $A=\\begin{bmatrix} 1 & 1 \\\\ 0 & 1 \\\\ \\end{bmatrix}$  \n",
    " $B=\\begin{bmatrix} \\frac{1}{2} \\\\ 1  \\end{bmatrix}$\n",
    "\n",
    "\n"
   ]
  },
  {
   "cell_type": "code",
   "execution_count": 11,
   "metadata": {},
   "outputs": [
    {
     "name": "stdout",
     "output_type": "stream",
     "text": [
      "A= [[1 1]\n",
      " [0 1]]\n",
      "B= [[0.5]\n",
      " [1. ]]\n",
      "miu0= [[0]\n",
      " [0]]\n",
      "u0= [0]\n"
     ]
    }
   ],
   "source": [
    "A = np.array([[1,1],[0,1]])\n",
    "B = np.array([[1/2],[1]])\n",
    "miu0 = np.array([[0],[0]])\n",
    "u0 = np.array([0])\n",
    "print(\"A=\",A)\n",
    "print(\"B=\",B)\n",
    "print(\"miu0=\",miu0)\n",
    "print(\"u0=\",u0)"
   ]
  },
  {
   "cell_type": "markdown",
   "metadata": {},
   "source": [
    "(c)卡尔曼的预测步骤为  \n",
    "$ \\bar{ \\mu }_{t}=A_{t}\\mu_{t-1}+B_{t}u_{t} $  \n",
    "$ \\bar{ \\Sigma}_{t}=A_{t}\\Sigma_{t-1}A_{t}^{T}+R_{t}$ \n"
   ]
  },
  {
   "cell_type": "code",
   "execution_count": 5,
   "metadata": {},
   "outputs": [
    {
     "name": "stdout",
     "output_type": "stream",
     "text": [
      "[[1 1]\n",
      " [0 1]]\n",
      "[[0.5]\n",
      " [1. ]]\n"
     ]
    }
   ],
   "source": [
    "miu_bar = np.dot(A,miu0)+np.dot(B,u0)\n",
    "\n"
   ]
  }
 ],
 "metadata": {
  "kernelspec": {
   "display_name": "pytorch",
   "language": "python",
   "name": "python3"
  },
  "language_info": {
   "codemirror_mode": {
    "name": "ipython",
    "version": 3
   },
   "file_extension": ".py",
   "mimetype": "text/x-python",
   "name": "python",
   "nbconvert_exporter": "python",
   "pygments_lexer": "ipython3",
   "version": "3.9.16"
  }
 },
 "nbformat": 4,
 "nbformat_minor": 2
}
