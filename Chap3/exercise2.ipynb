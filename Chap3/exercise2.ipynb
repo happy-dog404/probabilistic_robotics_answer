{
 "cells": [
  {
   "cell_type": "markdown",
   "metadata": {},
   "source": [
    "(a)  \n",
    "测量模型：$Z_{t}=CX_{t}+Q$"
   ]
  },
  {
   "cell_type": "code",
   "execution_count": 20,
   "metadata": {},
   "outputs": [],
   "source": [
    "import matplotlib.pyplot as plt\n",
    "from matplotlib.patches import Ellipse\n",
    "import numpy as np\n",
    "\n",
    "A = np.mat([[1,1],[0,1]])\n",
    "B = np.mat([[1/2],[1]])\n",
    "C = np.mat([1,0])\n",
    "\n",
    "miu0 = np.mat([[0],[0]])\n",
    "u0 = np.mat([0])\n",
    "Rt = np.dot(B,B.T)\n",
    "Qt = 10"
   ]
  },
  {
   "cell_type": "markdown",
   "metadata": {},
   "source": [
    "(b)\n",
    "实现测量更新,当t=5时刻的量测更新后，可以看到不确定性椭圆减小了"
   ]
  },
  {
   "cell_type": "code",
   "execution_count": 22,
   "metadata": {},
   "outputs": [
    {
     "name": "stdout",
     "output_type": "stream",
     "text": [
      "sigma_bar:\n",
      " [[2.5 2. ]\n",
      " [2.  2. ]]\n",
      "sigma_bar:\n",
      " [[8.75 4.5 ]\n",
      " [4.5  3.  ]]\n",
      "sigma_bar:\n",
      " [[21.  8.]\n",
      " [ 8.  4.]]\n",
      "sigma_bar:\n",
      " [[41.25 12.5 ]\n",
      " [12.5   5.  ]]\n",
      "sigma_bar:\n",
      " [[71.5 18. ]\n",
      " [18.   6. ]]\n",
      "K:\n",
      " [[0.87730061]\n",
      " [0.2208589 ]]\n",
      "miu:\n",
      " [[4.38650307]\n",
      " [1.10429448]]\n",
      "sigma:\n",
      " [[8.77300613 2.20858896]\n",
      " [2.20858896 2.02453988]]\n"
     ]
    },
    {
     "data": {
      "image/png": "[encoded data removed]",
      "text/plain": [
       "<Figure size 432x288 with 1 Axes>"
      ]
     },
     "metadata": {
      "needs_background": "light"
     },
     "output_type": "display_data"
    }
   ],
   "source": [
    "miu = miu0\n",
    "R = Rt\n",
    "Q = Qt\n",
    "u = u0\n",
    "sigma = Rt\n",
    "\n",
    "\n",
    "def plot_conversion_ellopse(mean,cov,ax,color='blue',n_std=2):\n",
    "    eigvals, eigvecs = np.linalg.eigh(cov)\n",
    "    anglel = np.arctan(-eigvecs[0,0]/eigvecs[1,0])*180.0/3.1415926\n",
    "    ellipse = Ellipse(xy=(miu[0,0],miu[1,0]), width=eigvals[1], height=eigvals[0], angle=anglel, edgecolor=color, facecolor='none')\n",
    "    ax.add_patch(ellipse)\n",
    "\n",
    "\n",
    "\n",
    "fix = plt.figure()\n",
    "ax = fix.add_subplot(111)\n",
    "\n",
    "color_que = ['blue','red','green','yellow','black','pink']\n",
    "\n",
    "\n",
    "miu_bar = miu\n",
    "sigma_bar = sigma\n",
    "for i in range(1,6):\n",
    "    miu_bar = np.dot(A,miu_bar)+B*u\n",
    "    sigma_bar = np.dot(np.dot(A,sigma_bar),A.T)+R\n",
    "    print(\"sigma_bar:\\n\",sigma_bar)\n",
    "    plot_conversion_ellopse(miu_bar,sigma_bar,ax,color=color_que[i])\n",
    "\n",
    "\n",
    "z = 5\n",
    "K_gain = sigma_bar*C.T*np.linalg.inv(C*sigma_bar*C.T+Q)\n",
    "miu = miu_bar+K_gain*(z-C*miu_bar)\n",
    "sigma = (np.eye(2)-K_gain*C)*sigma_bar\n",
    "\n",
    "\n",
    "print(\"K:\\n\",K_gain)\n",
    "print(\"miu:\\n\",miu)\n",
    "print(\"sigma:\\n\",sigma)\n",
    "\n",
    "\n",
    "plot_conversion_ellopse(miu,sigma,ax,color='green')\n",
    "\n",
    "plt.autoscale()\n",
    "plt.show()"
   ]
  },
  {
   "cell_type": "markdown",
   "metadata": {},
   "source": []
  }
 ],
 "metadata": {
  "kernelspec": {
   "display_name": "pytorch",
   "language": "python",
   "name": "python3"
  },
  "language_info": {
   "codemirror_mode": {
    "name": "ipython",
    "version": 3
   },
   "file_extension": ".py",
   "mimetype": "text/x-python",
   "name": "python",
   "nbconvert_exporter": "python",
   "pygments_lexer": "ipython3",
   "version": "3.9.16"
  }
 },
 "nbformat": 4,
 "nbformat_minor": 2
}
